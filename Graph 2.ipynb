{
 "cells": [
  {
   "cell_type": "code",
   "execution_count": 6,
   "metadata": {},
   "outputs": [
    {
     "name": "stderr",
     "output_type": "stream",
     "text": [
      "/opt/anaconda3/lib/python3.8/site-packages/IPython/core/interactiveshell.py:3146: DtypeWarning: Columns (9) have mixed types.Specify dtype option on import or set low_memory=False.\n",
      "  has_raised = await self.run_ast_nodes(code_ast.body, cell_name,\n"
     ]
    },
    {
     "name": "stdout",
     "output_type": "stream",
     "text": [
      "Number of rows: 899164\n",
      "Number of columns: 27\n",
      "Data types for columns are:\n"
     ]
    },
    {
     "data": {
      "text/plain": [
       "LoanNr_ChkDgt          int64\n",
       "Name                  object\n",
       "City                  object\n",
       "State                 object\n",
       "Zip                    int64\n",
       "Bank                  object\n",
       "BankState             object\n",
       "NAICS                  int64\n",
       "ApprovalDate          object\n",
       "ApprovalFY            object\n",
       "Term                   int64\n",
       "NoEmp                  int64\n",
       "NewExist             float64\n",
       "CreateJob              int64\n",
       "RetainedJob            int64\n",
       "FranchiseCode          int64\n",
       "UrbanRural             int64\n",
       "RevLineCr             object\n",
       "LowDoc                object\n",
       "ChgOffDate            object\n",
       "DisbursementDate      object\n",
       "DisbursementGross     object\n",
       "BalanceGross          object\n",
       "MIS_Status            object\n",
       "ChgOffPrinGr          object\n",
       "GrAppv                object\n",
       "SBA_Appv              object\n",
       "dtype: object"
      ]
     },
     "execution_count": 6,
     "metadata": {},
     "output_type": "execute_result"
    }
   ],
   "source": [
    "import pandas as pd\n",
    "import matplotlib.pyplot as plot\n",
    "\n",
    "f = 'SBAnational.csv'\n",
    "\n",
    "df = pd.read_csv(f)\n",
    "\n",
    "no_cols = len(df.columns)\n",
    "\n",
    "no_rows = len(df)\n",
    "\n",
    "print ('Number of rows: %s' %(no_rows))\n",
    "\n",
    "print ('Number of columns: %s' %(no_cols))\n",
    "\n",
    "print ('Data types for columns are:')\n",
    "\n",
    "df.dtypes"
   ]
  },
  {
   "cell_type": "code",
   "execution_count": 53,
   "metadata": {},
   "outputs": [
    {
     "data": {
      "text/plain": [
       "LoanNr_ChkDgt          int64\n",
       "Name                  object\n",
       "City                  object\n",
       "State                 object\n",
       "Zip                    int64\n",
       "Bank                  object\n",
       "BankState             object\n",
       "NAICS                  int64\n",
       "ApprovalDate          object\n",
       "ApprovalFY            object\n",
       "Term                   int64\n",
       "NoEmp                  int64\n",
       "NewExist             float64\n",
       "CreateJob              int64\n",
       "RetainedJob            int64\n",
       "FranchiseCode          int64\n",
       "UrbanRural             int64\n",
       "RevLineCr             object\n",
       "LowDoc                object\n",
       "ChgOffDate            object\n",
       "DisbursementDate      object\n",
       "DisbursementGross    float64\n",
       "BalanceGross          object\n",
       "MIS_Status            object\n",
       "ChgOffPrinGr         float64\n",
       "GrAppv                object\n",
       "SBA_Appv              object\n",
       "TotalJob               int64\n",
       "PercentChgOff        float64\n",
       "dtype: object"
      ]
     },
     "execution_count": 53,
     "metadata": {},
     "output_type": "execute_result"
    }
   ],
   "source": [
    "df1 = df.dropna(axis = 0, how = 'any', subset = ['ChgOffDate'])\n",
    "\n",
    "df2 = df1.loc[df1['MIS_Status'] == 'CHGOFF']\n",
    "\n",
    "df2 = df2.copy()\n",
    "\n",
    "special_chars = ['$', ',']\n",
    "\n",
    "\n",
    "for x in special_chars:\n",
    "    df2['ChgOffPrinGr'] = df2['ChgOffPrinGr'].str.replace(x, '')\n",
    "    df2['DisbursementGross'] = df2['DisbursementGross'].str.replace(x, '')\n",
    "\n",
    "\n",
    "df2['ChgOffPrinGr'] = df2['ChgOffPrinGr'].astype(float)\n",
    "\n",
    "df2['DisbursementGross'] = df2['DisbursementGross'].astype(float)\n",
    "\n",
    "df2['TotalJob'] = df2['CreateJob'] + df2['RetainedJob']\n",
    "\n",
    "df2['PercentChgOff'] = df2['ChgOffPrinGr'] / df2['DisbursementGross'] * 100\n",
    "\n",
    "df2.dtypes\n",
    "\n",
    "\n"
   ]
  },
  {
   "cell_type": "code",
   "execution_count": 59,
   "metadata": {},
   "outputs": [
    {
     "data": {
      "image/png": "[encoded data removed]",
      "text/plain": [
       "<Figure size 432x288 with 1 Axes>"
      ]
     },
     "metadata": {
      "needs_background": "light"
     },
     "output_type": "display_data"
    },
    {
     "name": "stdout",
     "output_type": "stream",
     "text": [
      "Average Charge-off Percentage: 61.919976\n",
      "Standard dev: 27.040839\n"
     ]
    }
   ],
   "source": [
    "plot.hist(df2['PercentChgOff'], bins = 100)\n",
    "plot.title('Histogram of Percentage Amout Charged-off')\n",
    "plot.xlim(0, 100)\n",
    "plot.xlabel('Percentage Amount Charged-off')\n",
    "plot.ylabel('Frequency')\n",
    "\n",
    "plot.show()\n",
    "\n",
    "df2_mean = df2['PercentChgOff'].mean()\n",
    "\n",
    "df2_std = df2['PercentChgOff'].std()\n",
    "\n",
    "print ('Average Charge-off Percentage: %f' %(df2_mean))\n",
    "\n",
    "print ('Standard dev: %f' %(df2_std))"
   ]
  },
  {
   "cell_type": "code",
   "execution_count": null,
   "metadata": {},
   "outputs": [],
   "source": []
  }
 ],
 "metadata": {
  "kernelspec": {
   "display_name": "Python 3",
   "language": "python",
   "name": "python3"
  },
  "language_info": {
   "codemirror_mode": {
    "name": "ipython",
    "version": 3
   },
   "file_extension": ".py",
   "mimetype": "text/x-python",
   "name": "python",
   "nbconvert_exporter": "python",
   "pygments_lexer": "ipython3",
   "version": "3.8.5"
  }
 },
 "nbformat": 4,
 "nbformat_minor": 4
}
