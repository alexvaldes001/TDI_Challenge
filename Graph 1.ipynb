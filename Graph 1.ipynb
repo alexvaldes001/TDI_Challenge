{
 "cells": [
  {
   "cell_type": "code",
   "execution_count": 10,
   "metadata": {},
   "outputs": [
    {
     "name": "stdout",
     "output_type": "stream",
     "text": [
      "Number of rows: 899164\n",
      "Number of columns: 27\n",
      "Data types for columns are:\n"
     ]
    },
    {
     "data": {
      "text/plain": [
       "LoanNr_ChkDgt          int64\n",
       "Name                  object\n",
       "City                  object\n",
       "State                 object\n",
       "Zip                    int64\n",
       "Bank                  object\n",
       "BankState             object\n",
       "NAICS                  int64\n",
       "ApprovalDate          object\n",
       "ApprovalFY            object\n",
       "Term                   int64\n",
       "NoEmp                  int64\n",
       "NewExist             float64\n",
       "CreateJob              int64\n",
       "RetainedJob            int64\n",
       "FranchiseCode          int64\n",
       "UrbanRural             int64\n",
       "RevLineCr             object\n",
       "LowDoc                object\n",
       "ChgOffDate            object\n",
       "DisbursementDate      object\n",
       "DisbursementGross     object\n",
       "BalanceGross          object\n",
       "MIS_Status            object\n",
       "ChgOffPrinGr          object\n",
       "GrAppv                object\n",
       "SBA_Appv              object\n",
       "dtype: object"
      ]
     },
     "execution_count": 10,
     "metadata": {},
     "output_type": "execute_result"
    }
   ],
   "source": [
    "import pandas as pd\n",
    "import matplotlib.pyplot as plot\n",
    "\n",
    "f = 'SBAnational.csv'\n",
    "\n",
    "df = pd.read_csv(f)\n",
    "\n",
    "no_cols = len(df.columns)\n",
    "\n",
    "no_rows = len(df)\n",
    "\n",
    "print ('Number of rows: %s' %(no_rows))\n",
    "\n",
    "print ('Number of columns: %s' %(no_cols))\n",
    "\n",
    "print ('Data types for columns are:')\n",
    "\n",
    "df.dtypes"
   ]
  },
  {
   "cell_type": "code",
   "execution_count": 11,
   "metadata": {},
   "outputs": [
    {
     "data": {
      "image/png": "[encoded data removed]",
      "text/plain": [
       "<Figure size 432x288 with 1 Axes>"
      ]
     },
     "metadata": {
      "needs_background": "light"
     },
     "output_type": "display_data"
    },
    {
     "name": "stdout",
     "output_type": "stream",
     "text": [
      "Average time to default in years: 4.326845\n",
      "Standard dev time to default in years: 2.450621\n"
     ]
    }
   ],
   "source": [
    "df1 = df.dropna(axis = 0, how = 'any', subset = ['ChgOffDate'])\n",
    "\n",
    "df1 = df1.copy()\n",
    "\n",
    "df1['ChgOffDate'] = pd.to_datetime(df1['ChgOffDate'], format = '%d-%b-%y')\n",
    "\n",
    "df1['DisbursementDate'] = pd.to_datetime(df1['DisbursementDate'], format = '%d-%b-%y')\n",
    "\n",
    "df1['TimeDefault_days'] = (df1['ChgOffDate'] - df1['DisbursementDate']).dt.days\n",
    "\n",
    "df1['TimeDefault_years'] = df1['TimeDefault_days'] / 365\n",
    "\n",
    "plot.hist(df1['TimeDefault_years'], bins = 100)\n",
    "plot.title('Histogram of Time to Default')\n",
    "plot.xlim(0, 20)\n",
    "plot.xlabel('Time to default')\n",
    "plot.ylabel('Frequency')\n",
    "\n",
    "plot.show()\n",
    "\n",
    "df1_mean = df1['TimeDefault_years'].mean()\n",
    "\n",
    "df1_std = df1['TimeDefault_years'].std()\n",
    "\n",
    "print ('Average time to default in years: %f' %(df1_mean))\n",
    "\n",
    "print ('Standard dev time to default in years: %f' %(df1_std))\n"
   ]
  },
  {
   "cell_type": "code",
   "execution_count": null,
   "metadata": {},
   "outputs": [],
   "source": []
  }
 ],
 "metadata": {
  "kernelspec": {
   "display_name": "Python 3",
   "language": "python",
   "name": "python3"
  },
  "language_info": {
   "codemirror_mode": {
    "name": "ipython",
    "version": 3
   },
   "file_extension": ".py",
   "mimetype": "text/x-python",
   "name": "python",
   "nbconvert_exporter": "python",
   "pygments_lexer": "ipython3",
   "version": "3.8.5"
  }
 },
 "nbformat": 4,
 "nbformat_minor": 4
}
